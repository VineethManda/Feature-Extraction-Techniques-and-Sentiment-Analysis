{
 "cells": [
  {
   "cell_type": "code",
   "execution_count": 1,
   "id": "07181eb3",
   "metadata": {},
   "outputs": [
    {
     "name": "stdout",
     "output_type": "stream",
     "text": [
      "Test Accuracy using Basic Text Matching with Keywords: 0.64\n",
      "Test Accuracy using Basic Text Matching with Keywords: 0.65\n"
     ]
    }
   ],
   "source": [
    "import re\n",
    "from sklearn.model_selection import train_test_split\n",
    "from sklearn.feature_extraction.text import CountVectorizer\n",
    "from sklearn.naive_bayes import MultinomialNB\n",
    "from sklearn.metrics import accuracy_score\n",
    "\n",
    "# Read the plain text dataset\n",
    "with open(\"customer_reviews.txt\", \"r\", encoding=\"utf-8\") as file:\n",
    "    lines = file.readlines()\n",
    "\n",
    "# Split the dataset into training (90%) and testing (10%)\n",
    "train_lines, test_lines = train_test_split(lines, test_size=0.1, random_state=42)\n",
    "\n",
    "# Initialize empty lists to store labels and reviews\n",
    "X_train_labels = []\n",
    "y_train_labels = []\n",
    "train_reviews = []\n",
    "X_test_labels = []\n",
    "y_test_labels = []\n",
    "test_reviews = []\n",
    "\n",
    "# Process the lines and split into labels and reviews\n",
    "for line in train_lines:\n",
    "    flag = 1\n",
    "    if '__label__2' in line:\n",
    "        flag = 1\n",
    "        review = line.strip().split(\"__label__2 \")[1]\n",
    "    else:\n",
    "        flag = 0\n",
    "        review = line.strip().split(\"__label__1 \")[1]\n",
    "    X_train_labels.append(flag)\n",
    "    train_reviews.append(review)\n",
    "\n",
    "for line in test_lines:\n",
    "    flag = 1\n",
    "    if '__label__2' in line:\n",
    "        flag = 1\n",
    "        review = line.strip().split(\"__label__2 \")[1]\n",
    "    else:\n",
    "        flag = 0\n",
    "        review = line.strip().split(\"__label__1 \")[1]\n",
    "    X_test_labels.append(flag)\n",
    "    test_reviews.append(review)\n",
    "\n",
    "# Part 1: Basic Text Matching with Keywords\n",
    "positive_keywords = [\"great\", \"love\", \"amazing\", \"excellent\"]\n",
    "negative_keywords = [\"bad\", \"terrible\", \"awful\", \"horrible\"]\n",
    "\n",
    "def classify_with_keywords(text):\n",
    "    positive_count = sum(text.count(keyword) for keyword in positive_keywords)\n",
    "    negative_count = sum(text.count(keyword) for keyword in negative_keywords)\n",
    "    \n",
    "    if positive_count > negative_count:\n",
    "        return 1\n",
    "    elif negative_count > positive_count:\n",
    "        return 0\n",
    "    else:\n",
    "        return 0\n",
    "\n",
    "y_train_labels = [classify_with_keywords(review) for review in train_reviews]\n",
    "\n",
    "y_test_labels = [classify_with_keywords(review) for review in test_reviews]\n",
    "\n",
    "train_accuracy = accuracy_score(X_train_labels, y_train_labels)\n",
    "print(f\"Test Accuracy using Basic Text Matching with Keywords: {train_accuracy:.2f}\")\n",
    "\n",
    "test_accuracy = accuracy_score(X_test_labels, y_test_labels)\n",
    "print(f\"Test Accuracy using Basic Text Matching with Keywords: {test_accuracy:.2f}\")\n",
    "\n",
    "\n"
   ]
  },
  {
   "cell_type": "code",
   "execution_count": 2,
   "id": "a814930d",
   "metadata": {},
   "outputs": [
    {
     "name": "stdout",
     "output_type": "stream",
     "text": [
      "Accuracy using Bag of Words (BoW) Technique: 0.85\n"
     ]
    }
   ],
   "source": [
    "# Part 2: Bag of Words (BoW) Technique\n",
    "vectorizer = CountVectorizer()\n",
    "X_train = vectorizer.fit_transform(train_reviews)\n",
    "X_test = vectorizer.transform(test_reviews)\n",
    "\n",
    "if not vectorizer.vocabulary_:\n",
    "    print(\"Empty vocabulary after preprocessing. Check your dataset and preprocessing steps.\")\n",
    "else:\n",
    "    classifier = MultinomialNB()\n",
    "    classifier.fit(X_train, X_train_labels)\n",
    "\n",
    "    predicted_labels_bow = classifier.predict(X_test)\n",
    "\n",
    "    accuracy_bow = accuracy_score(X_test_labels, predicted_labels_bow)\n",
    "    print(f\"Accuracy using Bag of Words (BoW) Technique: {accuracy_bow:.2f}\")"
   ]
  },
  {
   "cell_type": "code",
   "execution_count": null,
   "id": "61b73107",
   "metadata": {},
   "outputs": [],
   "source": [
    "from sklearn.svm import SVC  # Import the Support Vector Machine classifier\n",
    "\n",
    "# Part 2: Bag of Words (BoW) Technique with SVM\n",
    "vectorizer = CountVectorizer()\n",
    "X_train = vectorizer.fit_transform(train_reviews)\n",
    "X_test = vectorizer.transform(test_reviews)\n",
    "\n",
    "if not vectorizer.vocabulary_:\n",
    "    print(\"Empty vocabulary after preprocessing. Check your dataset and preprocessing steps.\")\n",
    "else:\n",
    "    classifier = SVC(kernel='rbf')  # Use a linear kernel for SVM\n",
    "    classifier.fit(X_train, X_train_labels)\n",
    "\n",
    "    predicted_labels_bow = classifier.predict(X_test)\n",
    "\n",
    "    accuracy_bow = accuracy_score(X_test_labels, predicted_labels_bow)\n",
    "    print(f\"Accuracy using Bag of Words (BoW) Technique with SVM: {accuracy_bow:.2f}\")\n"
   ]
  },
  {
   "cell_type": "code",
   "execution_count": 2,
   "id": "5e030a6f",
   "metadata": {},
   "outputs": [
    {
     "name": "stdout",
     "output_type": "stream",
     "text": [
      "Accuracy using Bag of Words (BoW) Technique with Random Forest: 0.79\n"
     ]
    }
   ],
   "source": [
    "from sklearn.ensemble import RandomForestClassifier\n",
    "\n",
    "# Part 2: Bag of Words (BoW) Technique with Random Forest\n",
    "vectorizer = CountVectorizer()\n",
    "X_train = vectorizer.fit_transform(train_reviews)\n",
    "X_test = vectorizer.transform(test_reviews)\n",
    "\n",
    "if not vectorizer.vocabulary_:\n",
    "    print(\"Empty vocabulary after preprocessing. Check your dataset and preprocessing steps.\")\n",
    "else:\n",
    "    classifier = RandomForestClassifier(n_estimators=100, max_depth=10, random_state=42)  # Initialize Random Forest classifier\n",
    "    classifier.fit(X_train, X_train_labels)  # Train the classifier\n",
    "\n",
    "    predicted_labels_bow = classifier.predict(X_test)  # Make predictions\n",
    "\n",
    "    accuracy_bow = accuracy_score(X_test_labels, predicted_labels_bow)  # Calculate accuracy\n",
    "    print(f\"Accuracy using Bag of Words (BoW) Technique with Random Forest: {accuracy_bow:.2f}\")\n"
   ]
  },
  {
   "cell_type": "code",
   "execution_count": 4,
   "id": "22a45ade",
   "metadata": {},
   "outputs": [
    {
     "name": "stdout",
     "output_type": "stream",
     "text": [
      "Accuracy using Bag of Words (BoW) Technique with Logistic Regression: 0.90\n"
     ]
    }
   ],
   "source": [
    "import warnings\n",
    "warnings.filterwarnings(\"ignore\")\n",
    "\n",
    "from sklearn.linear_model import LogisticRegression\n",
    "\n",
    "# Part 2: Bag of Words (BoW) Technique with Logistic Regression\n",
    "vectorizer = CountVectorizer()\n",
    "X_train = vectorizer.fit_transform(train_reviews)\n",
    "X_test = vectorizer.transform(test_reviews)\n",
    "\n",
    "if not vectorizer.vocabulary_:\n",
    "    print(\"Empty vocabulary after preprocessing. Check your dataset and preprocessing steps.\")\n",
    "else:\n",
    "    classifier = LogisticRegression(random_state=42, max_iter=1000)  # Initialize Logistic Regression classifier\n",
    "    classifier.fit(X_train, X_train_labels)  # Train the classifier\n",
    "\n",
    "    predicted_labels_bow = classifier.predict(X_test)  # Make predictions\n",
    "\n",
    "    accuracy_bow = accuracy_score(X_test_labels, predicted_labels_bow)  # Calculate accuracy\n",
    "    print(f\"Accuracy using Bag of Words (BoW) Technique with Logistic Regression: {accuracy_bow:.2f}\")\n"
   ]
  },
  {
   "cell_type": "code",
   "execution_count": null,
   "id": "5b62819d",
   "metadata": {},
   "outputs": [],
   "source": []
  }
 ],
 "metadata": {
  "kernelspec": {
   "display_name": "Python 3 (ipykernel)",
   "language": "python",
   "name": "python3"
  },
  "language_info": {
   "codemirror_mode": {
    "name": "ipython",
    "version": 3
   },
   "file_extension": ".py",
   "mimetype": "text/x-python",
   "name": "python",
   "nbconvert_exporter": "python",
   "pygments_lexer": "ipython3",
   "version": "3.11.4"
  }
 },
 "nbformat": 4,
 "nbformat_minor": 5
}
